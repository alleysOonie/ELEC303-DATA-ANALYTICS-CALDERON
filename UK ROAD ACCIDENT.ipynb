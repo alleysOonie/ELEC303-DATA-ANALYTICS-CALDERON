{
 "cells": [
  {
   "cell_type": "markdown",
   "id": "549ddb6d-2128-4d2a-895d-7f0694fdcb40",
   "metadata": {},
   "source": [
    "<h1> UK ROAD ACCIDENT ANALYSIS </h1>\n",
    "<h3> Analyst: Nichole Allyson D. Calderon </h3>"
   ]
  },
  {
   "cell_type": "code",
   "execution_count": 1,
   "id": "4573fb5c-44e4-46fe-9354-21beede5dbde",
   "metadata": {},
   "outputs": [],
   "source": [
    "import numpy as np\n",
    "import pandas as pd \n",
    "import matplotlib.pyplot as plt"
   ]
  },
  {
   "cell_type": "code",
   "execution_count": 2,
   "id": "4302aa17-a594-4b78-b17b-01879920d82e",
   "metadata": {},
   "outputs": [],
   "source": [
    "uk_road_accident = pd.read_csv('datasets\\\\uk_road_accident.csv')"
   ]
  },
  {
   "cell_type": "code",
   "execution_count": 3,
   "id": "62edd5d3-14c3-46c2-a62f-7c6c171fa58b",
   "metadata": {},
   "outputs": [
    {
     "data": {
      "text/html": [
       "<div>\n",
       "<style scoped>\n",
       "    .dataframe tbody tr th:only-of-type {\n",
       "        vertical-align: middle;\n",
       "    }\n",
       "\n",
       "    .dataframe tbody tr th {\n",
       "        vertical-align: top;\n",
       "    }\n",
       "\n",
       "    .dataframe thead th {\n",
       "        text-align: right;\n",
       "    }\n",
       "</style>\n",
       "<table border=\"1\" class=\"dataframe\">\n",
       "  <thead>\n",
       "    <tr style=\"text-align: right;\">\n",
       "      <th></th>\n",
       "      <th>Index</th>\n",
       "      <th>Accident_Severity</th>\n",
       "      <th>Accident Date</th>\n",
       "      <th>Latitude</th>\n",
       "      <th>Light_Conditions</th>\n",
       "      <th>District Area</th>\n",
       "      <th>Longitude</th>\n",
       "      <th>Number_of_Casualties</th>\n",
       "      <th>Number_of_Vehicles</th>\n",
       "      <th>Road_Surface_Conditions</th>\n",
       "      <th>Road_Type</th>\n",
       "      <th>Urban_or_Rural_Area</th>\n",
       "      <th>Weather_Conditions</th>\n",
       "      <th>Vehicle_Type</th>\n",
       "    </tr>\n",
       "  </thead>\n",
       "  <tbody>\n",
       "    <tr>\n",
       "      <th>0</th>\n",
       "      <td>200701BS64157</td>\n",
       "      <td>Serious</td>\n",
       "      <td>5/6/2019</td>\n",
       "      <td>51.506187</td>\n",
       "      <td>Darkness - lights lit</td>\n",
       "      <td>Kensington and Chelsea</td>\n",
       "      <td>-0.209082</td>\n",
       "      <td>1</td>\n",
       "      <td>2</td>\n",
       "      <td>Dry</td>\n",
       "      <td>Single carriageway</td>\n",
       "      <td>Urban</td>\n",
       "      <td>Fine no high winds</td>\n",
       "      <td>Car</td>\n",
       "    </tr>\n",
       "    <tr>\n",
       "      <th>1</th>\n",
       "      <td>200701BS65737</td>\n",
       "      <td>Serious</td>\n",
       "      <td>2/7/2019</td>\n",
       "      <td>51.495029</td>\n",
       "      <td>Daylight</td>\n",
       "      <td>Kensington and Chelsea</td>\n",
       "      <td>-0.173647</td>\n",
       "      <td>1</td>\n",
       "      <td>2</td>\n",
       "      <td>Wet or damp</td>\n",
       "      <td>Single carriageway</td>\n",
       "      <td>Urban</td>\n",
       "      <td>Raining no high winds</td>\n",
       "      <td>Car</td>\n",
       "    </tr>\n",
       "    <tr>\n",
       "      <th>2</th>\n",
       "      <td>200701BS66127</td>\n",
       "      <td>Serious</td>\n",
       "      <td>26-08-2019</td>\n",
       "      <td>51.517715</td>\n",
       "      <td>Darkness - lighting unknown</td>\n",
       "      <td>Kensington and Chelsea</td>\n",
       "      <td>-0.210215</td>\n",
       "      <td>1</td>\n",
       "      <td>3</td>\n",
       "      <td>Dry</td>\n",
       "      <td>NaN</td>\n",
       "      <td>Urban</td>\n",
       "      <td>NaN</td>\n",
       "      <td>Taxi/Private hire car</td>\n",
       "    </tr>\n",
       "    <tr>\n",
       "      <th>3</th>\n",
       "      <td>200701BS66128</td>\n",
       "      <td>Serious</td>\n",
       "      <td>16-08-2019</td>\n",
       "      <td>51.495478</td>\n",
       "      <td>Daylight</td>\n",
       "      <td>Kensington and Chelsea</td>\n",
       "      <td>-0.202731</td>\n",
       "      <td>1</td>\n",
       "      <td>4</td>\n",
       "      <td>Dry</td>\n",
       "      <td>Single carriageway</td>\n",
       "      <td>Urban</td>\n",
       "      <td>Fine no high winds</td>\n",
       "      <td>Bus or coach (17 or more pass seats)</td>\n",
       "    </tr>\n",
       "    <tr>\n",
       "      <th>4</th>\n",
       "      <td>200701BS66837</td>\n",
       "      <td>Slight</td>\n",
       "      <td>3/9/2019</td>\n",
       "      <td>51.488576</td>\n",
       "      <td>Darkness - lights lit</td>\n",
       "      <td>Kensington and Chelsea</td>\n",
       "      <td>-0.192487</td>\n",
       "      <td>1</td>\n",
       "      <td>2</td>\n",
       "      <td>Dry</td>\n",
       "      <td>NaN</td>\n",
       "      <td>Urban</td>\n",
       "      <td>NaN</td>\n",
       "      <td>Other vehicle</td>\n",
       "    </tr>\n",
       "    <tr>\n",
       "      <th>...</th>\n",
       "      <td>...</td>\n",
       "      <td>...</td>\n",
       "      <td>...</td>\n",
       "      <td>...</td>\n",
       "      <td>...</td>\n",
       "      <td>...</td>\n",
       "      <td>...</td>\n",
       "      <td>...</td>\n",
       "      <td>...</td>\n",
       "      <td>...</td>\n",
       "      <td>...</td>\n",
       "      <td>...</td>\n",
       "      <td>...</td>\n",
       "      <td>...</td>\n",
       "    </tr>\n",
       "    <tr>\n",
       "      <th>660674</th>\n",
       "      <td>201091NM01760</td>\n",
       "      <td>Slight</td>\n",
       "      <td>18-02-2022</td>\n",
       "      <td>57.374005</td>\n",
       "      <td>Daylight</td>\n",
       "      <td>Highland</td>\n",
       "      <td>-3.467828</td>\n",
       "      <td>2</td>\n",
       "      <td>1</td>\n",
       "      <td>Dry</td>\n",
       "      <td>Single carriageway</td>\n",
       "      <td>Rural</td>\n",
       "      <td>Fine no high winds</td>\n",
       "      <td>Car</td>\n",
       "    </tr>\n",
       "    <tr>\n",
       "      <th>660675</th>\n",
       "      <td>201091NM01881</td>\n",
       "      <td>Slight</td>\n",
       "      <td>21-02-2022</td>\n",
       "      <td>57.232273</td>\n",
       "      <td>Darkness - no lighting</td>\n",
       "      <td>Highland</td>\n",
       "      <td>-3.809281</td>\n",
       "      <td>1</td>\n",
       "      <td>1</td>\n",
       "      <td>Frost or ice</td>\n",
       "      <td>Single carriageway</td>\n",
       "      <td>Rural</td>\n",
       "      <td>Fine no high winds</td>\n",
       "      <td>Car</td>\n",
       "    </tr>\n",
       "    <tr>\n",
       "      <th>660676</th>\n",
       "      <td>201091NM01935</td>\n",
       "      <td>Slight</td>\n",
       "      <td>23-02-2022</td>\n",
       "      <td>57.585044</td>\n",
       "      <td>Daylight</td>\n",
       "      <td>Highland</td>\n",
       "      <td>-3.862727</td>\n",
       "      <td>1</td>\n",
       "      <td>3</td>\n",
       "      <td>Frost or ice</td>\n",
       "      <td>Single carriageway</td>\n",
       "      <td>Rural</td>\n",
       "      <td>Fine no high winds</td>\n",
       "      <td>Car</td>\n",
       "    </tr>\n",
       "    <tr>\n",
       "      <th>660677</th>\n",
       "      <td>201091NM01964</td>\n",
       "      <td>Serious</td>\n",
       "      <td>23-02-2022</td>\n",
       "      <td>57.214898</td>\n",
       "      <td>Darkness - no lighting</td>\n",
       "      <td>Highland</td>\n",
       "      <td>-3.823997</td>\n",
       "      <td>1</td>\n",
       "      <td>2</td>\n",
       "      <td>Wet or damp</td>\n",
       "      <td>Single carriageway</td>\n",
       "      <td>Rural</td>\n",
       "      <td>Fine no high winds</td>\n",
       "      <td>Motorcycle over 500cc</td>\n",
       "    </tr>\n",
       "    <tr>\n",
       "      <th>660678</th>\n",
       "      <td>201091NM02142</td>\n",
       "      <td>Serious</td>\n",
       "      <td>28-02-2022</td>\n",
       "      <td>57.575210</td>\n",
       "      <td>Daylight</td>\n",
       "      <td>Highland</td>\n",
       "      <td>-3.895673</td>\n",
       "      <td>1</td>\n",
       "      <td>1</td>\n",
       "      <td>Wet or damp</td>\n",
       "      <td>Dual carriageway</td>\n",
       "      <td>Rural</td>\n",
       "      <td>Snowing no high winds</td>\n",
       "      <td>Car</td>\n",
       "    </tr>\n",
       "  </tbody>\n",
       "</table>\n",
       "<p>660679 rows × 14 columns</p>\n",
       "</div>"
      ],
      "text/plain": [
       "                Index Accident_Severity Accident Date   Latitude  \\\n",
       "0       200701BS64157           Serious      5/6/2019  51.506187   \n",
       "1       200701BS65737           Serious      2/7/2019  51.495029   \n",
       "2       200701BS66127           Serious    26-08-2019  51.517715   \n",
       "3       200701BS66128           Serious    16-08-2019  51.495478   \n",
       "4       200701BS66837            Slight      3/9/2019  51.488576   \n",
       "...               ...               ...           ...        ...   \n",
       "660674  201091NM01760            Slight    18-02-2022  57.374005   \n",
       "660675  201091NM01881            Slight    21-02-2022  57.232273   \n",
       "660676  201091NM01935            Slight    23-02-2022  57.585044   \n",
       "660677  201091NM01964           Serious    23-02-2022  57.214898   \n",
       "660678  201091NM02142           Serious    28-02-2022  57.575210   \n",
       "\n",
       "                   Light_Conditions           District Area  Longitude  \\\n",
       "0             Darkness - lights lit  Kensington and Chelsea  -0.209082   \n",
       "1                          Daylight  Kensington and Chelsea  -0.173647   \n",
       "2       Darkness - lighting unknown  Kensington and Chelsea  -0.210215   \n",
       "3                          Daylight  Kensington and Chelsea  -0.202731   \n",
       "4             Darkness - lights lit  Kensington and Chelsea  -0.192487   \n",
       "...                             ...                     ...        ...   \n",
       "660674                     Daylight                Highland  -3.467828   \n",
       "660675       Darkness - no lighting                Highland  -3.809281   \n",
       "660676                     Daylight                Highland  -3.862727   \n",
       "660677       Darkness - no lighting                Highland  -3.823997   \n",
       "660678                     Daylight                Highland  -3.895673   \n",
       "\n",
       "        Number_of_Casualties  Number_of_Vehicles Road_Surface_Conditions  \\\n",
       "0                          1                   2                     Dry   \n",
       "1                          1                   2             Wet or damp   \n",
       "2                          1                   3                     Dry   \n",
       "3                          1                   4                     Dry   \n",
       "4                          1                   2                     Dry   \n",
       "...                      ...                 ...                     ...   \n",
       "660674                     2                   1                     Dry   \n",
       "660675                     1                   1            Frost or ice   \n",
       "660676                     1                   3            Frost or ice   \n",
       "660677                     1                   2             Wet or damp   \n",
       "660678                     1                   1             Wet or damp   \n",
       "\n",
       "                 Road_Type Urban_or_Rural_Area     Weather_Conditions  \\\n",
       "0       Single carriageway               Urban     Fine no high winds   \n",
       "1       Single carriageway               Urban  Raining no high winds   \n",
       "2                      NaN               Urban                    NaN   \n",
       "3       Single carriageway               Urban     Fine no high winds   \n",
       "4                      NaN               Urban                    NaN   \n",
       "...                    ...                 ...                    ...   \n",
       "660674  Single carriageway               Rural     Fine no high winds   \n",
       "660675  Single carriageway               Rural     Fine no high winds   \n",
       "660676  Single carriageway               Rural     Fine no high winds   \n",
       "660677  Single carriageway               Rural     Fine no high winds   \n",
       "660678    Dual carriageway               Rural  Snowing no high winds   \n",
       "\n",
       "                                Vehicle_Type  \n",
       "0                                        Car  \n",
       "1                                        Car  \n",
       "2                      Taxi/Private hire car  \n",
       "3       Bus or coach (17 or more pass seats)  \n",
       "4                              Other vehicle  \n",
       "...                                      ...  \n",
       "660674                                   Car  \n",
       "660675                                   Car  \n",
       "660676                                   Car  \n",
       "660677                 Motorcycle over 500cc  \n",
       "660678                                   Car  \n",
       "\n",
       "[660679 rows x 14 columns]"
      ]
     },
     "execution_count": 3,
     "metadata": {},
     "output_type": "execute_result"
    }
   ],
   "source": [
    "uk_road_accident"
   ]
  },
  {
   "cell_type": "markdown",
   "id": "c1f42065-0917-4b4d-ae11-ab2a2455ae95",
   "metadata": {},
   "source": [
    "<h1> 1. Which vehicle types are most often involved in accidents? </h1>"
   ]
  },
  {
   "cell_type": "code",
   "execution_count": 4,
   "id": "79952ea4-2021-4f84-98c5-a965ef42a00c",
   "metadata": {},
   "outputs": [],
   "source": [
    "vehicle_type_df = uk_road_accident['Vehicle_Type']"
   ]
  },
  {
   "cell_type": "code",
   "execution_count": 5,
   "id": "7a6ed716-164e-4059-9ad6-6d94d844fad3",
   "metadata": {},
   "outputs": [
    {
     "data": {
      "text/plain": [
       "0                                          Car\n",
       "1                                          Car\n",
       "2                        Taxi/Private hire car\n",
       "3         Bus or coach (17 or more pass seats)\n",
       "4                                Other vehicle\n",
       "                          ...                 \n",
       "660674                                     Car\n",
       "660675                                     Car\n",
       "660676                                     Car\n",
       "660677                   Motorcycle over 500cc\n",
       "660678                                     Car\n",
       "Name: Vehicle_Type, Length: 660679, dtype: object"
      ]
     },
     "execution_count": 5,
     "metadata": {},
     "output_type": "execute_result"
    }
   ],
   "source": [
    "vehicle_type_df"
   ]
  },
  {
   "cell_type": "code",
   "execution_count": 6,
   "id": "6077f9c1-fb33-4142-b9c5-af77d127adba",
   "metadata": {},
   "outputs": [
    {
     "data": {
      "text/plain": [
       "Vehicle_Type\n",
       "Car                                      497992\n",
       "Van / Goods 3.5 tonnes mgw or under       34160\n",
       "Bus or coach (17 or more pass seats)      25878\n",
       "Motorcycle over 500cc                     25657\n",
       "Goods 7.5 tonnes mgw and over             17307\n",
       "Motorcycle 125cc and under                15269\n",
       "Taxi/Private hire car                     13294\n",
       "Motorcycle over 125cc and up to 500cc      7656\n",
       "Motorcycle 50cc and under                  7603\n",
       "Goods over 3.5t. and under 7.5t            6096\n",
       "Other vehicle                              5637\n",
       "Minibus (8 - 16 passenger seats)           1976\n",
       "Agricultural vehicle                       1947\n",
       "Pedal cycle                                 197\n",
       "Data missing or out of range                  6\n",
       "Ridden horse                                  4\n",
       "Name: count, dtype: int64"
      ]
     },
     "execution_count": 6,
     "metadata": {},
     "output_type": "execute_result"
    }
   ],
   "source": [
    "vehicle_type_df.value_counts()"
   ]
  },
  {
   "cell_type": "markdown",
   "id": "b6947064-3619-44af-8396-7c7da728c080",
   "metadata": {},
   "source": [
    "<H3> INSIGHT #1 - Most accidents involve cars, followed by vans, buses, and motorcycles over 500cc. </H3>"
   ]
  },
  {
   "cell_type": "markdown",
   "id": "670428d7-e796-484f-84c4-ed335210169d",
   "metadata": {},
   "source": [
    "<h1> 2. Is there a correlation between number of vehicles and number of casualties in an accident? </h1>"
   ]
  },
  {
   "cell_type": "code",
   "execution_count": 7,
   "id": "16151b02-1fed-4be0-aaf7-48763b453ea6",
   "metadata": {},
   "outputs": [],
   "source": [
    "no_of_vehicles = uk_road_accident['Number_of_Vehicles']"
   ]
  },
  {
   "cell_type": "code",
   "execution_count": 8,
   "id": "07aa5c34-ec3f-40a0-aa05-85c1dc716e7c",
   "metadata": {},
   "outputs": [
    {
     "data": {
      "text/plain": [
       "0         2\n",
       "1         2\n",
       "2         3\n",
       "3         4\n",
       "4         2\n",
       "         ..\n",
       "660674    1\n",
       "660675    1\n",
       "660676    3\n",
       "660677    2\n",
       "660678    1\n",
       "Name: Number_of_Vehicles, Length: 660679, dtype: int64"
      ]
     },
     "execution_count": 8,
     "metadata": {},
     "output_type": "execute_result"
    }
   ],
   "source": [
    "no_of_vehicles"
   ]
  },
  {
   "cell_type": "code",
   "execution_count": 9,
   "id": "d7568826-e70f-46fc-9607-7ffcdce099f4",
   "metadata": {},
   "outputs": [],
   "source": [
    "no_of_casualties = uk_road_accident['Number_of_Casualties']"
   ]
  },
  {
   "cell_type": "code",
   "execution_count": 10,
   "id": "06f2e8de-5572-4395-b344-c70cff5a4dd7",
   "metadata": {},
   "outputs": [
    {
     "data": {
      "text/plain": [
       "0         1\n",
       "1         1\n",
       "2         1\n",
       "3         1\n",
       "4         1\n",
       "         ..\n",
       "660674    2\n",
       "660675    1\n",
       "660676    1\n",
       "660677    1\n",
       "660678    1\n",
       "Name: Number_of_Casualties, Length: 660679, dtype: int64"
      ]
     },
     "execution_count": 10,
     "metadata": {},
     "output_type": "execute_result"
    }
   ],
   "source": [
    "no_of_casualties"
   ]
  },
  {
   "cell_type": "code",
   "execution_count": 11,
   "id": "0a8d59bd-b272-4b75-8547-de026fc153e8",
   "metadata": {},
   "outputs": [
    {
     "data": {
      "text/plain": [
       "np.float64(0.22888886126927557)"
      ]
     },
     "execution_count": 11,
     "metadata": {},
     "output_type": "execute_result"
    }
   ],
   "source": [
    "uk_road_accident['Number_of_Vehicles'].corr(uk_road_accident['Number_of_Casualties'])"
   ]
  },
  {
   "cell_type": "markdown",
   "id": "5461df45-cf16-49b2-bd9b-e15e426eb4f0",
   "metadata": {},
   "source": [
    "<h3> INSIGHT #2 - As the number of vehicles involved in an accident increases, the number of casualties also tends to increase. </h3>"
   ]
  },
  {
   "cell_type": "markdown",
   "id": "c2821f5e-b408-4cef-8be7-42d926e06c11",
   "metadata": {},
   "source": [
    "<H1> 3. What is the average number of vehicles involved in urban vs rural areas? </H1>"
   ]
  },
  {
   "cell_type": "code",
   "execution_count": 12,
   "id": "63b701c3-0302-4d2d-9262-f501e3dff6d3",
   "metadata": {},
   "outputs": [
    {
     "data": {
      "text/plain": [
       "Urban_or_Rural_Area\n",
       "Rural          1.866312\n",
       "Unallocated    1.909091\n",
       "Urban          1.811394\n",
       "Name: Number_of_Vehicles, dtype: float64"
      ]
     },
     "execution_count": 12,
     "metadata": {},
     "output_type": "execute_result"
    }
   ],
   "source": [
    "uk_road_accident.groupby('Urban_or_Rural_Area')['Number_of_Vehicles'].mean()"
   ]
  },
  {
   "cell_type": "markdown",
   "id": "a057cb7e-5335-44c7-806f-9dd4525a3cde",
   "metadata": {},
   "source": [
    "<h3> INSIGHT #3 - Accidents in rural areas tend to involve slightly more vehicles on average than in urban areas.</h3>"
   ]
  },
  {
   "cell_type": "markdown",
   "id": "404696d6-d411-4f7f-b813-1fa3d573e5f6",
   "metadata": {},
   "source": [
    "<H1> 4. Which districts have the highest number of accidents? </H1>"
   ]
  },
  {
   "cell_type": "code",
   "execution_count": 13,
   "id": "09cc7b5b-d885-4074-9c2b-b26966cfbf4a",
   "metadata": {},
   "outputs": [
    {
     "data": {
      "text/plain": [
       "District Area\n",
       "Birmingham            13491\n",
       "Leeds                  8898\n",
       "Manchester             6720\n",
       "Bradford               6212\n",
       "Sheffield              5710\n",
       "                      ...  \n",
       "Berwick-upon-Tweed      153\n",
       "Teesdale                142\n",
       "Shetland Islands        133\n",
       "Orkney Islands          117\n",
       "Clackmannanshire         91\n",
       "Name: count, Length: 422, dtype: int64"
      ]
     },
     "execution_count": 13,
     "metadata": {},
     "output_type": "execute_result"
    }
   ],
   "source": [
    "uk_road_accident['District Area'].value_counts()"
   ]
  },
  {
   "cell_type": "markdown",
   "id": "5a52b79b-711d-4150-8576-6cc5996d71df",
   "metadata": {},
   "source": [
    "<h3> INSIGHT #4 - Birmingham has the highest number of accidents (13,491), far ahead of other districts like Leeds (8,898) and Manchester (6,720). </h3>"
   ]
  },
  {
   "cell_type": "markdown",
   "id": "8f869af8-a407-40c1-be90-295b49501078",
   "metadata": {},
   "source": [
    "<H1> 5. Does road surface condition show correlation with accident severity?</H1>"
   ]
  },
  {
   "cell_type": "code",
   "execution_count": 14,
   "id": "0cbcfca6-6a4d-445a-aa1e-db816427146c",
   "metadata": {},
   "outputs": [
    {
     "data": {
      "text/plain": [
       "Road_Surface_Conditions  Accident_Severity\n",
       "Dry                      Fatal                  5788\n",
       "                         Serious               61638\n",
       "                         Slight               380395\n",
       "Flood over 3cm. deep     Fatal                    23\n",
       "                         Serious                 152\n",
       "                         Slight                  842\n",
       "Frost or ice             Fatal                   193\n",
       "                         Serious                2007\n",
       "                         Slight                16317\n",
       "Snow                     Fatal                    35\n",
       "                         Serious                 565\n",
       "                         Slight                 5290\n",
       "Wet or damp              Fatal                  2620\n",
       "                         Serious               23785\n",
       "                         Slight               160303\n",
       "dtype: int64"
      ]
     },
     "execution_count": 14,
     "metadata": {},
     "output_type": "execute_result"
    }
   ],
   "source": [
    "uk_road_accident.groupby(['Road_Surface_Conditions', 'Accident_Severity']).size()"
   ]
  },
  {
   "cell_type": "markdown",
   "id": "3432985b-1049-49af-a7f0-90ae51c0a95a",
   "metadata": {},
   "source": [
    "<h3> INSIGHT #5 - The majority of accidents happen on dry roads, with most being slight and fatal injuries.</h3>"
   ]
  },
  {
   "cell_type": "markdown",
   "id": "d31d8b66-610a-4fee-9f96-68b0482f8550",
   "metadata": {},
   "source": [
    "<h1> 6. How does weather condition affect accident counts? </h1>"
   ]
  },
  {
   "cell_type": "code",
   "execution_count": 15,
   "id": "800054e0-ff5b-4482-b6d7-3871e51628ed",
   "metadata": {},
   "outputs": [
    {
     "data": {
      "text/plain": [
       "<Axes: xlabel='Weather_Conditions'>"
      ]
     },
     "execution_count": 15,
     "metadata": {},
     "output_type": "execute_result"
    },
    {
     "data": {
      "image/png": "[encoded data removed]",
      "text/plain": [
       "<Figure size 640x480 with 1 Axes>"
      ]
     },
     "metadata": {},
     "output_type": "display_data"
    }
   ],
   "source": [
    "uk_road_accident['Weather_Conditions'].value_counts().plot(kind='bar')"
   ]
  },
  {
   "cell_type": "markdown",
   "id": "98a7883b-c38d-43e6-872b-1d3f81989c36",
   "metadata": {},
   "source": [
    "<h3> INSIGHT #6 - Most accidents happen in fine no high winds. </h3>"
   ]
  },
  {
   "cell_type": "markdown",
   "id": "f3cdd2bb-33f9-4980-a747-c53dc7ca1aae",
   "metadata": {},
   "source": [
    "<h1> 7. Does the mean number of casualties differ between daylight and darkness?</h1>"
   ]
  },
  {
   "cell_type": "code",
   "execution_count": 16,
   "id": "c83825ca-7c51-4ebf-b704-89b95d5c87e9",
   "metadata": {},
   "outputs": [
    {
     "data": {
      "text/plain": [
       "Light_Conditions\n",
       "Darkness - lighting unknown    1.306447\n",
       "Darkness - lights lit          1.369374\n",
       "Darkness - lights unlit        1.331105\n",
       "Darkness - no lighting         1.541657\n",
       "Daylight                       1.340309\n",
       "Name: Number_of_Casualties, dtype: float64"
      ]
     },
     "execution_count": 16,
     "metadata": {},
     "output_type": "execute_result"
    }
   ],
   "source": [
    "uk_road_accident.groupby('Light_Conditions')['Number_of_Casualties'].mean()"
   ]
  },
  {
   "cell_type": "markdown",
   "id": "b097f62f-b5da-4fbd-b281-83e3e52c322c",
   "metadata": {},
   "source": [
    "<h3> INSIGHT #7 - The mean number of casualties is slightly higher during darkness especially with no lighting compared to daylight. </h3>"
   ]
  },
  {
   "cell_type": "markdown",
   "id": "9e23a9f8-f056-4e32-aa14-c40927401d9e",
   "metadata": {},
   "source": [
    "<h1> 8. Are there specific districts with a higher proportion of severe accidents? </h1>"
   ]
  },
  {
   "cell_type": "code",
   "execution_count": 17,
   "id": "d1392ccd-ceb6-4356-87f5-ea0a2c8ddc9f",
   "metadata": {},
   "outputs": [
    {
     "data": {
      "text/plain": [
       "District Area  Accident_Severity\n",
       "Aberdeen City  Fatal                  12\n",
       "               Serious               239\n",
       "               Slight               1072\n",
       "Aberdeenshire  Fatal                  66\n",
       "               Serious               463\n",
       "                                    ... \n",
       "Wyre Forest    Serious               132\n",
       "               Slight                815\n",
       "York           Fatal                  21\n",
       "               Serious               255\n",
       "               Slight               1621\n",
       "Length: 1266, dtype: int64"
      ]
     },
     "execution_count": 17,
     "metadata": {},
     "output_type": "execute_result"
    }
   ],
   "source": [
    "uk_road_accident.groupby(['District Area', 'Accident_Severity']).size()"
   ]
  },
  {
   "cell_type": "markdown",
   "id": "c787d3f2-2d55-43da-a4d4-5063cc0cddb6",
   "metadata": {},
   "source": [
    "<h3> INSIGHT #8 - Most districts report far more slight accidents than serious or fatal ones, but some areas (like Aberdeenshire with 66 fatal cases) stand out with a relatively higher proportion of severe accidents. </h3>"
   ]
  },
  {
   "cell_type": "markdown",
   "id": "7f9782e6-bbad-4cf3-baf2-4f561abf067c",
   "metadata": {},
   "source": [
    "<H1> 9. Are certain road types more prone to severe accidents?</H1>"
   ]
  },
  {
   "cell_type": "code",
   "execution_count": 18,
   "id": "eccfee50-ef04-4940-8d4a-21b3311b6776",
   "metadata": {},
   "outputs": [
    {
     "data": {
      "text/plain": [
       "Road_Type           Accident_Severity\n",
       "Dual carriageway    Fatal                  1815\n",
       "                    Serious               11746\n",
       "                    Slight                85863\n",
       "One way street      Fatal                    95\n",
       "                    Serious                1655\n",
       "                    Slight                11809\n",
       "Roundabout          Fatal                   142\n",
       "                    Serious                3665\n",
       "                    Slight                40185\n",
       "Single carriageway  Fatal                  6527\n",
       "                    Serious               70059\n",
       "                    Slight               415557\n",
       "Slip road           Fatal                    49\n",
       "                    Serious                 611\n",
       "                    Slight                 6381\n",
       "dtype: int64"
      ]
     },
     "execution_count": 18,
     "metadata": {},
     "output_type": "execute_result"
    }
   ],
   "source": [
    " uk_road_accident.groupby(['Road_Type', 'Accident_Severity']).size()"
   ]
  },
  {
   "cell_type": "markdown",
   "id": "f031b9a9-3a4a-4b14-86ca-619686bc379e",
   "metadata": {},
   "source": [
    "<h3> INSIGHT #9 - Single carriageways are the most accident-prone and carry the highest fatality risk.</h3>"
   ]
  },
  {
   "cell_type": "markdown",
   "id": "edcb6fb6-a515-4464-a2b1-276ad277e456",
   "metadata": {},
   "source": [
    "<H1> 10. How does accident severity differ between daylight and darkness? </H1>"
   ]
  },
  {
   "cell_type": "code",
   "execution_count": 23,
   "id": "6d866664-ddc9-490c-9bfb-d985a79b98f0",
   "metadata": {},
   "outputs": [
    {
     "data": {
      "text/plain": [
       "Light_Conditions             Accident_Severity\n",
       "Darkness - lighting unknown  Fatal                    68\n",
       "                             Serious                 794\n",
       "                             Slight                 5622\n",
       "Darkness - lights lit        Fatal                  1860\n",
       "                             Serious               19130\n",
       "                             Slight               108345\n",
       "Darkness - lights unlit      Fatal                    45\n",
       "                             Serious                 360\n",
       "                             Slight                 2138\n",
       "Darkness - no lighting       Fatal                  1612\n",
       "                             Serious                7174\n",
       "                             Slight                28651\n",
       "Daylight                     Fatal                  5076\n",
       "                             Serious               60759\n",
       "                             Slight               419045\n",
       "dtype: int64"
      ]
     },
     "execution_count": 23,
     "metadata": {},
     "output_type": "execute_result"
    }
   ],
   "source": [
    "uk_road_accident.groupby(['Light_Conditions', 'Accident_Severity']).size()"
   ]
  },
  {
   "cell_type": "code",
   "execution_count": 25,
   "id": "451ec534-f9ad-4ba0-8c32-cdec240b0251",
   "metadata": {},
   "outputs": [
    {
     "data": {
      "text/plain": [
       "<Axes: xlabel='Light_Conditions,Accident_Severity'>"
      ]
     },
     "execution_count": 25,
     "metadata": {},
     "output_type": "execute_result"
    },
    {
     "data": {
      "image/png": "[encoded data removed]",
      "text/plain": [
       "<Figure size 640x480 with 1 Axes>"
      ]
     },
     "metadata": {},
     "output_type": "display_data"
    }
   ],
   "source": [
    "uk_road_accident.groupby(['Light_Conditions', 'Accident_Severity']).size().plot(kind='bar')"
   ]
  },
  {
   "cell_type": "markdown",
   "id": "26dd0381-cf4e-480a-9948-3b0e7c309686",
   "metadata": {},
   "source": [
    "<h3> INSIGHT #10 - Most accidents happen during daylight, but the majority are slight injuries.</h3>"
   ]
  },
  {
   "cell_type": "markdown",
   "id": "5e53dba2-5ed0-43a0-a3fb-1f47334ad8b5",
   "metadata": {},
   "source": [
    "<h1> 11.  What are the most common road surface conditions during accidents?</h1>"
   ]
  },
  {
   "cell_type": "code",
   "execution_count": 26,
   "id": "e5a16d7e-3980-4513-8229-941c2f0c5d50",
   "metadata": {},
   "outputs": [
    {
     "data": {
      "text/plain": [
       "Road_Surface_Conditions\n",
       "Dry                     447821\n",
       "Wet or damp             186708\n",
       "Frost or ice             18517\n",
       "Snow                      5890\n",
       "Flood over 3cm. deep      1017\n",
       "Name: count, dtype: int64"
      ]
     },
     "execution_count": 26,
     "metadata": {},
     "output_type": "execute_result"
    }
   ],
   "source": [
    " uk_road_accident['Road_Surface_Conditions'].value_counts()"
   ]
  },
  {
   "cell_type": "markdown",
   "id": "e7f1f33f-2353-4d42-8318-f009ce61338b",
   "metadata": {},
   "source": [
    "<h3> INSIGHT #11 - Most accidents occur on dry roads. </h3>"
   ]
  },
  {
   "cell_type": "markdown",
   "id": "ed05690d-587a-42bd-a1a9-599325a2bc93",
   "metadata": {},
   "source": [
    "<H1> 12. Does the number of vehicles involved in an accident correlate with the number of casualties? </H1>"
   ]
  },
  {
   "cell_type": "code",
   "execution_count": 28,
   "id": "7f7c49af-4f44-4c97-95e4-b045fd717b8a",
   "metadata": {},
   "outputs": [
    {
     "data": {
      "text/plain": [
       "np.float64(0.22888886126927557)"
      ]
     },
     "execution_count": 28,
     "metadata": {},
     "output_type": "execute_result"
    }
   ],
   "source": [
    "uk_road_accident['Number_of_Vehicles'].corr(uk_road_accident['Number_of_Casualties'])"
   ]
  },
  {
   "cell_type": "markdown",
   "id": "acd644a4-e970-46b0-8351-9e799ea42375",
   "metadata": {},
   "source": [
    "<h3> INSIGHT #12 - Multi-vehicle crashes often lead to more casualties, but many severe accidents also happen with just one vehicle.</h3>"
   ]
  },
  {
   "cell_type": "markdown",
   "id": "bd8dfdb8-d365-4eed-8be3-b3e93c20c4d8",
   "metadata": {},
   "source": [
    "<H1> 13. Do fatal accidents have a higher average number of casualties than serious or slight accidents?</H1>"
   ]
  },
  {
   "cell_type": "code",
   "execution_count": 29,
   "id": "1b366cb4-8a62-4924-a86f-7ef29dd072a2",
   "metadata": {},
   "outputs": [
    {
     "data": {
      "text/plain": [
       "Accident_Severity\n",
       "Fatal      1.903129\n",
       "Serious    1.467280\n",
       "Slight     1.331402\n",
       "Name: Number_of_Casualties, dtype: float64"
      ]
     },
     "execution_count": 29,
     "metadata": {},
     "output_type": "execute_result"
    }
   ],
   "source": [
    " uk_road_accident.groupby('Accident_Severity')['Number_of_Casualties'].mean()"
   ]
  },
  {
   "cell_type": "markdown",
   "id": "92fb6a7b-9630-419d-a4af-609b3b128f06",
   "metadata": {},
   "source": [
    "<h3> INSIGHT #13 - Fatal accidents involve more casualties on average than serious or slight accidents.</h3>"
   ]
  },
  {
   "cell_type": "markdown",
   "id": "00756b44-83cf-4da6-8540-d49469b4e6ad",
   "metadata": {},
   "source": [
    "<H1> 14. Is there a correlation between latitude/longitude and the number of casualties? </H1>"
   ]
  },
  {
   "cell_type": "code",
   "execution_count": 32,
   "id": "cb1db458-a9bd-4def-b62d-073e73cb2e1f",
   "metadata": {},
   "outputs": [
    {
     "data": {
      "text/html": [
       "<div>\n",
       "<style scoped>\n",
       "    .dataframe tbody tr th:only-of-type {\n",
       "        vertical-align: middle;\n",
       "    }\n",
       "\n",
       "    .dataframe tbody tr th {\n",
       "        vertical-align: top;\n",
       "    }\n",
       "\n",
       "    .dataframe thead th {\n",
       "        text-align: right;\n",
       "    }\n",
       "</style>\n",
       "<table border=\"1\" class=\"dataframe\">\n",
       "  <thead>\n",
       "    <tr style=\"text-align: right;\">\n",
       "      <th></th>\n",
       "      <th>Latitude</th>\n",
       "      <th>Longitude</th>\n",
       "      <th>Number_of_Casualties</th>\n",
       "    </tr>\n",
       "  </thead>\n",
       "  <tbody>\n",
       "    <tr>\n",
       "      <th>Latitude</th>\n",
       "      <td>1.000000</td>\n",
       "      <td>-0.398114</td>\n",
       "      <td>0.032201</td>\n",
       "    </tr>\n",
       "    <tr>\n",
       "      <th>Longitude</th>\n",
       "      <td>-0.398114</td>\n",
       "      <td>1.000000</td>\n",
       "      <td>-0.040406</td>\n",
       "    </tr>\n",
       "    <tr>\n",
       "      <th>Number_of_Casualties</th>\n",
       "      <td>0.032201</td>\n",
       "      <td>-0.040406</td>\n",
       "      <td>1.000000</td>\n",
       "    </tr>\n",
       "  </tbody>\n",
       "</table>\n",
       "</div>"
      ],
      "text/plain": [
       "                      Latitude  Longitude  Number_of_Casualties\n",
       "Latitude              1.000000  -0.398114              0.032201\n",
       "Longitude            -0.398114   1.000000             -0.040406\n",
       "Number_of_Casualties  0.032201  -0.040406              1.000000"
      ]
     },
     "execution_count": 32,
     "metadata": {},
     "output_type": "execute_result"
    }
   ],
   "source": [
    "uk_road_accident[['Latitude', 'Longitude', 'Number_of_Casualties']].corr()"
   ]
  },
  {
   "cell_type": "markdown",
   "id": "e20df620-91b2-4249-a007-25d092b602e8",
   "metadata": {},
   "source": [
    "<h3> INSIGHT #14 - Accident severity (in terms of casualties) is driven more by road type, conditions, and vehicles rather than geographic coordinates.</h3>"
   ]
  },
  {
   "cell_type": "markdown",
   "id": "8b38fc9b-c718-4899-84c0-fe69c2f72a26",
   "metadata": {},
   "source": [
    "<H1> 15. Do weather conditions affect accident counts?</H1>"
   ]
  },
  {
   "cell_type": "code",
   "execution_count": 33,
   "id": "2a25e2ed-cfc1-4206-aada-4dfa55ebd7b0",
   "metadata": {},
   "outputs": [
    {
     "data": {
      "text/plain": [
       "Weather_Conditions\n",
       "Fine no high winds       520885\n",
       "Raining no high winds     79696\n",
       "Other                     17150\n",
       "Raining + high winds       9615\n",
       "Fine + high winds          8554\n",
       "Snowing no high winds      6238\n",
       "Fog or mist                3528\n",
       "Snowing + high winds        885\n",
       "Name: count, dtype: int64"
      ]
     },
     "execution_count": 33,
     "metadata": {},
     "output_type": "execute_result"
    }
   ],
   "source": [
    "uk_road_accident['Weather_Conditions'].value_counts()"
   ]
  },
  {
   "cell_type": "code",
   "execution_count": 35,
   "id": "db623692-3c67-47db-a42d-20e3858b6eef",
   "metadata": {},
   "outputs": [
    {
     "data": {
      "text/plain": [
       "<Axes: xlabel='Weather_Conditions'>"
      ]
     },
     "execution_count": 35,
     "metadata": {},
     "output_type": "execute_result"
    },
    {
     "data": {
      "image/png": "[encoded data removed]",
      "text/plain": [
       "<Figure size 640x480 with 1 Axes>"
      ]
     },
     "metadata": {},
     "output_type": "display_data"
    }
   ],
   "source": [
    "uk_road_accident['Weather_Conditions'].value_counts().plot(kind='bar')"
   ]
  },
  {
   "cell_type": "markdown",
   "id": "cd4466f0-cc0a-4b54-9664-6c7c8fab7d2b",
   "metadata": {},
   "source": [
    "<h3> INSIGHT #15 - Accident counts are highest in normal clear weather, but opposing conditions like rain increase the risk per trip.</h3>"
   ]
  },
  {
   "cell_type": "markdown",
   "id": "410cb058-4582-4f58-915f-430b58b81bbd",
   "metadata": {},
   "source": [
    "<h1> 16. What is the average number of casualties per vehicle type involved? </h1>"
   ]
  },
  {
   "cell_type": "code",
   "execution_count": 36,
   "id": "f378158e-f896-42d2-91f5-10be24605b8e",
   "metadata": {},
   "outputs": [
    {
     "data": {
      "text/plain": [
       "Vehicle_Type\n",
       "Agricultural vehicle                     1.342065\n",
       "Bus or coach (17 or more pass seats)     1.349216\n",
       "Car                                      1.358841\n",
       "Data missing or out of range             1.500000\n",
       "Goods 7.5 tonnes mgw and over            1.351881\n",
       "Goods over 3.5t. and under 7.5t          1.362861\n",
       "Minibus (8 - 16 passenger seats)         1.345648\n",
       "Motorcycle 125cc and under               1.332635\n",
       "Motorcycle 50cc and under                1.337235\n",
       "Motorcycle over 125cc and up to 500cc    1.343521\n",
       "Motorcycle over 500cc                    1.359434\n",
       "Other vehicle                            1.340075\n",
       "Pedal cycle                              1.370558\n",
       "Ridden horse                             1.250000\n",
       "Taxi/Private hire car                    1.368663\n",
       "Van / Goods 3.5 tonnes mgw or under      1.354537\n",
       "Name: Number_of_Casualties, dtype: float64"
      ]
     },
     "execution_count": 36,
     "metadata": {},
     "output_type": "execute_result"
    }
   ],
   "source": [
    "uk_road_accident.groupby('Vehicle_Type')['Number_of_Casualties'].mean()"
   ]
  },
  {
   "cell_type": "markdown",
   "id": "d3aa5200-1983-404d-b697-266fb614026f",
   "metadata": {},
   "source": [
    "<h3> INSIGHT #16 - Pedal cycles and taxis/private cars show the highest casualty averages, while ridden horses the lowest. </h3>"
   ]
  },
  {
   "cell_type": "markdown",
   "id": "bcce590a-fa06-463c-927b-37e396f74dad",
   "metadata": {},
   "source": [
    "<H1> 17. Which road types in rural vs urban areas see more fatal accidents? </H1>"
   ]
  },
  {
   "cell_type": "code",
   "execution_count": 37,
   "id": "6fff87cb-903c-4247-aa46-2bf36e6940ef",
   "metadata": {},
   "outputs": [],
   "source": [
    "fatal = uk_road_accident[uk_road_accident['Accident_Severity'] == 'Fatal']"
   ]
  },
  {
   "cell_type": "code",
   "execution_count": 39,
   "id": "168a0f28-913a-49b6-8dd1-573c0cb4e3da",
   "metadata": {},
   "outputs": [
    {
     "data": {
      "text/html": [
       "<div>\n",
       "<style scoped>\n",
       "    .dataframe tbody tr th:only-of-type {\n",
       "        vertical-align: middle;\n",
       "    }\n",
       "\n",
       "    .dataframe tbody tr th {\n",
       "        vertical-align: top;\n",
       "    }\n",
       "\n",
       "    .dataframe thead th {\n",
       "        text-align: right;\n",
       "    }\n",
       "</style>\n",
       "<table border=\"1\" class=\"dataframe\">\n",
       "  <thead>\n",
       "    <tr style=\"text-align: right;\">\n",
       "      <th></th>\n",
       "      <th>Index</th>\n",
       "      <th>Accident_Severity</th>\n",
       "      <th>Accident Date</th>\n",
       "      <th>Latitude</th>\n",
       "      <th>Light_Conditions</th>\n",
       "      <th>District Area</th>\n",
       "      <th>Longitude</th>\n",
       "      <th>Number_of_Casualties</th>\n",
       "      <th>Number_of_Vehicles</th>\n",
       "      <th>Road_Surface_Conditions</th>\n",
       "      <th>Road_Type</th>\n",
       "      <th>Urban_or_Rural_Area</th>\n",
       "      <th>Weather_Conditions</th>\n",
       "      <th>Vehicle_Type</th>\n",
       "    </tr>\n",
       "  </thead>\n",
       "  <tbody>\n",
       "    <tr>\n",
       "      <th>7</th>\n",
       "      <td>200701BS67370</td>\n",
       "      <td>Fatal</td>\n",
       "      <td>3/10/2019</td>\n",
       "      <td>51.482260</td>\n",
       "      <td>Darkness - lights lit</td>\n",
       "      <td>Kensington and Chelsea</td>\n",
       "      <td>-0.179486</td>\n",
       "      <td>3</td>\n",
       "      <td>2</td>\n",
       "      <td>Dry</td>\n",
       "      <td>Single carriageway</td>\n",
       "      <td>Urban</td>\n",
       "      <td>Fine no high winds</td>\n",
       "      <td>Car</td>\n",
       "    </tr>\n",
       "    <tr>\n",
       "      <th>11</th>\n",
       "      <td>200701BS67747</td>\n",
       "      <td>Fatal</td>\n",
       "      <td>2/11/2019</td>\n",
       "      <td>51.499127</td>\n",
       "      <td>Daylight</td>\n",
       "      <td>Kensington and Chelsea</td>\n",
       "      <td>-0.159652</td>\n",
       "      <td>1</td>\n",
       "      <td>2</td>\n",
       "      <td>Dry</td>\n",
       "      <td>Single carriageway</td>\n",
       "      <td>Urban</td>\n",
       "      <td>Fine no high winds</td>\n",
       "      <td>Bus or coach (17 or more pass seats)</td>\n",
       "    </tr>\n",
       "    <tr>\n",
       "      <th>20</th>\n",
       "      <td>200701BS68301</td>\n",
       "      <td>Fatal</td>\n",
       "      <td>24-10-2019</td>\n",
       "      <td>51.505996</td>\n",
       "      <td>Daylight</td>\n",
       "      <td>Kensington and Chelsea</td>\n",
       "      <td>-0.214277</td>\n",
       "      <td>1</td>\n",
       "      <td>1</td>\n",
       "      <td>Dry</td>\n",
       "      <td>Single carriageway</td>\n",
       "      <td>Urban</td>\n",
       "      <td>Fine no high winds</td>\n",
       "      <td>Car</td>\n",
       "    </tr>\n",
       "    <tr>\n",
       "      <th>21</th>\n",
       "      <td>200701BS68302</td>\n",
       "      <td>Fatal</td>\n",
       "      <td>24-11-2019</td>\n",
       "      <td>51.486795</td>\n",
       "      <td>Daylight</td>\n",
       "      <td>Kensington and Chelsea</td>\n",
       "      <td>-0.170375</td>\n",
       "      <td>5</td>\n",
       "      <td>1</td>\n",
       "      <td>Dry</td>\n",
       "      <td>Single carriageway</td>\n",
       "      <td>Urban</td>\n",
       "      <td>Fine no high winds</td>\n",
       "      <td>Car</td>\n",
       "    </tr>\n",
       "    <tr>\n",
       "      <th>717</th>\n",
       "      <td>200701CP00032</td>\n",
       "      <td>Fatal</td>\n",
       "      <td>30-01-2019</td>\n",
       "      <td>51.510978</td>\n",
       "      <td>Daylight</td>\n",
       "      <td>City of London</td>\n",
       "      <td>-0.107581</td>\n",
       "      <td>1</td>\n",
       "      <td>2</td>\n",
       "      <td>Wet or damp</td>\n",
       "      <td>Dual carriageway</td>\n",
       "      <td>Urban</td>\n",
       "      <td>Fine no high winds</td>\n",
       "      <td>Car</td>\n",
       "    </tr>\n",
       "    <tr>\n",
       "      <th>...</th>\n",
       "      <td>...</td>\n",
       "      <td>...</td>\n",
       "      <td>...</td>\n",
       "      <td>...</td>\n",
       "      <td>...</td>\n",
       "      <td>...</td>\n",
       "      <td>...</td>\n",
       "      <td>...</td>\n",
       "      <td>...</td>\n",
       "      <td>...</td>\n",
       "      <td>...</td>\n",
       "      <td>...</td>\n",
       "      <td>...</td>\n",
       "      <td>...</td>\n",
       "    </tr>\n",
       "    <tr>\n",
       "      <th>660470</th>\n",
       "      <td>201091NH00529</td>\n",
       "      <td>Fatal</td>\n",
       "      <td>29-01-2022</td>\n",
       "      <td>58.475726</td>\n",
       "      <td>Daylight</td>\n",
       "      <td>Western Isles</td>\n",
       "      <td>-6.278583</td>\n",
       "      <td>1</td>\n",
       "      <td>1</td>\n",
       "      <td>Wet or damp</td>\n",
       "      <td>Single carriageway</td>\n",
       "      <td>Rural</td>\n",
       "      <td>Fine + high winds</td>\n",
       "      <td>Car</td>\n",
       "    </tr>\n",
       "    <tr>\n",
       "      <th>660519</th>\n",
       "      <td>201091NJ01533</td>\n",
       "      <td>Fatal</td>\n",
       "      <td>2/2/2022</td>\n",
       "      <td>58.495554</td>\n",
       "      <td>Daylight</td>\n",
       "      <td>Highland</td>\n",
       "      <td>-4.451628</td>\n",
       "      <td>1</td>\n",
       "      <td>1</td>\n",
       "      <td>Snow</td>\n",
       "      <td>Single carriageway</td>\n",
       "      <td>Rural</td>\n",
       "      <td>Snowing no high winds</td>\n",
       "      <td>Car</td>\n",
       "    </tr>\n",
       "    <tr>\n",
       "      <th>660565</th>\n",
       "      <td>201091NJ11329</td>\n",
       "      <td>Fatal</td>\n",
       "      <td>15-08-2022</td>\n",
       "      <td>57.871514</td>\n",
       "      <td>Daylight</td>\n",
       "      <td>Highland</td>\n",
       "      <td>-4.243081</td>\n",
       "      <td>1</td>\n",
       "      <td>1</td>\n",
       "      <td>Dry</td>\n",
       "      <td>Single carriageway</td>\n",
       "      <td>Rural</td>\n",
       "      <td>Fine no high winds</td>\n",
       "      <td>Goods 7.5 tonnes mgw and over</td>\n",
       "    </tr>\n",
       "    <tr>\n",
       "      <th>660581</th>\n",
       "      <td>201091NJ14695</td>\n",
       "      <td>Fatal</td>\n",
       "      <td>21-10-2022</td>\n",
       "      <td>58.445475</td>\n",
       "      <td>Darkness - lights lit</td>\n",
       "      <td>Highland</td>\n",
       "      <td>-3.065535</td>\n",
       "      <td>1</td>\n",
       "      <td>1</td>\n",
       "      <td>Wet or damp</td>\n",
       "      <td>Single carriageway</td>\n",
       "      <td>Rural</td>\n",
       "      <td>Fine no high winds</td>\n",
       "      <td>Car</td>\n",
       "    </tr>\n",
       "    <tr>\n",
       "      <th>660627</th>\n",
       "      <td>201091NL00060</td>\n",
       "      <td>Fatal</td>\n",
       "      <td>6/1/2022</td>\n",
       "      <td>60.241195</td>\n",
       "      <td>Daylight</td>\n",
       "      <td>Shetland Islands</td>\n",
       "      <td>-1.409761</td>\n",
       "      <td>3</td>\n",
       "      <td>1</td>\n",
       "      <td>Snow</td>\n",
       "      <td>Single carriageway</td>\n",
       "      <td>Rural</td>\n",
       "      <td>Fine no high winds</td>\n",
       "      <td>Van / Goods 3.5 tonnes mgw or under</td>\n",
       "    </tr>\n",
       "  </tbody>\n",
       "</table>\n",
       "<p>8661 rows × 14 columns</p>\n",
       "</div>"
      ],
      "text/plain": [
       "                Index Accident_Severity Accident Date   Latitude  \\\n",
       "7       200701BS67370             Fatal     3/10/2019  51.482260   \n",
       "11      200701BS67747             Fatal     2/11/2019  51.499127   \n",
       "20      200701BS68301             Fatal    24-10-2019  51.505996   \n",
       "21      200701BS68302             Fatal    24-11-2019  51.486795   \n",
       "717     200701CP00032             Fatal    30-01-2019  51.510978   \n",
       "...               ...               ...           ...        ...   \n",
       "660470  201091NH00529             Fatal    29-01-2022  58.475726   \n",
       "660519  201091NJ01533             Fatal      2/2/2022  58.495554   \n",
       "660565  201091NJ11329             Fatal    15-08-2022  57.871514   \n",
       "660581  201091NJ14695             Fatal    21-10-2022  58.445475   \n",
       "660627  201091NL00060             Fatal      6/1/2022  60.241195   \n",
       "\n",
       "             Light_Conditions           District Area  Longitude  \\\n",
       "7       Darkness - lights lit  Kensington and Chelsea  -0.179486   \n",
       "11                   Daylight  Kensington and Chelsea  -0.159652   \n",
       "20                   Daylight  Kensington and Chelsea  -0.214277   \n",
       "21                   Daylight  Kensington and Chelsea  -0.170375   \n",
       "717                  Daylight          City of London  -0.107581   \n",
       "...                       ...                     ...        ...   \n",
       "660470               Daylight           Western Isles  -6.278583   \n",
       "660519               Daylight                Highland  -4.451628   \n",
       "660565               Daylight                Highland  -4.243081   \n",
       "660581  Darkness - lights lit                Highland  -3.065535   \n",
       "660627               Daylight        Shetland Islands  -1.409761   \n",
       "\n",
       "        Number_of_Casualties  Number_of_Vehicles Road_Surface_Conditions  \\\n",
       "7                          3                   2                     Dry   \n",
       "11                         1                   2                     Dry   \n",
       "20                         1                   1                     Dry   \n",
       "21                         5                   1                     Dry   \n",
       "717                        1                   2             Wet or damp   \n",
       "...                      ...                 ...                     ...   \n",
       "660470                     1                   1             Wet or damp   \n",
       "660519                     1                   1                    Snow   \n",
       "660565                     1                   1                     Dry   \n",
       "660581                     1                   1             Wet or damp   \n",
       "660627                     3                   1                    Snow   \n",
       "\n",
       "                 Road_Type Urban_or_Rural_Area     Weather_Conditions  \\\n",
       "7       Single carriageway               Urban     Fine no high winds   \n",
       "11      Single carriageway               Urban     Fine no high winds   \n",
       "20      Single carriageway               Urban     Fine no high winds   \n",
       "21      Single carriageway               Urban     Fine no high winds   \n",
       "717       Dual carriageway               Urban     Fine no high winds   \n",
       "...                    ...                 ...                    ...   \n",
       "660470  Single carriageway               Rural      Fine + high winds   \n",
       "660519  Single carriageway               Rural  Snowing no high winds   \n",
       "660565  Single carriageway               Rural     Fine no high winds   \n",
       "660581  Single carriageway               Rural     Fine no high winds   \n",
       "660627  Single carriageway               Rural     Fine no high winds   \n",
       "\n",
       "                                Vehicle_Type  \n",
       "7                                        Car  \n",
       "11      Bus or coach (17 or more pass seats)  \n",
       "20                                       Car  \n",
       "21                                       Car  \n",
       "717                                      Car  \n",
       "...                                      ...  \n",
       "660470                                   Car  \n",
       "660519                                   Car  \n",
       "660565         Goods 7.5 tonnes mgw and over  \n",
       "660581                                   Car  \n",
       "660627   Van / Goods 3.5 tonnes mgw or under  \n",
       "\n",
       "[8661 rows x 14 columns]"
      ]
     },
     "execution_count": 39,
     "metadata": {},
     "output_type": "execute_result"
    }
   ],
   "source": [
    "fatal"
   ]
  },
  {
   "cell_type": "code",
   "execution_count": 40,
   "id": "133b25d0-77bc-4e9d-9e07-7a600f1e9920",
   "metadata": {},
   "outputs": [
    {
     "data": {
      "text/plain": [
       "Urban_or_Rural_Area  Road_Type         \n",
       "Rural                Dual carriageway      1201\n",
       "                     One way street           8\n",
       "                     Roundabout              62\n",
       "                     Single carriageway    4276\n",
       "                     Slip road               36\n",
       "Urban                Dual carriageway       614\n",
       "                     One way street          87\n",
       "                     Roundabout              80\n",
       "                     Single carriageway    2251\n",
       "                     Slip road               13\n",
       "dtype: int64"
      ]
     },
     "execution_count": 40,
     "metadata": {},
     "output_type": "execute_result"
    }
   ],
   "source": [
    "fatal.groupby(['Urban_or_Rural_Area', 'Road_Type']).size()"
   ]
  },
  {
   "cell_type": "code",
   "execution_count": 41,
   "id": "460fd517-cda8-4af8-a5c4-0ee874997fde",
   "metadata": {},
   "outputs": [
    {
     "data": {
      "text/plain": [
       "<Axes: xlabel='Urban_or_Rural_Area,Road_Type'>"
      ]
     },
     "execution_count": 41,
     "metadata": {},
     "output_type": "execute_result"
    },
    {
     "data": {
      "image/png": "[encoded data removed]",
      "text/plain": [
       "<Figure size 640x480 with 1 Axes>"
      ]
     },
     "metadata": {},
     "output_type": "display_data"
    }
   ],
   "source": [
    "fatal.groupby(['Urban_or_Rural_Area', 'Road_Type']).size().plot(kind='bar')"
   ]
  },
  {
   "cell_type": "markdown",
   "id": "9846650e-a9cd-444c-85ec-8fb2eb8b555b",
   "metadata": {},
   "source": [
    "<h3> INSIGHT #17 - Rural single carriageways record the highest number of fatal accidents, far above other road types. </h3>"
   ]
  },
  {
   "cell_type": "markdown",
   "id": "04d48012-5ba6-4662-9b3d-3602e239c8b4",
   "metadata": {},
   "source": [
    "<H1> 18. What is the average number of casualties per accident? </H1>"
   ]
  },
  {
   "cell_type": "code",
   "execution_count": 42,
   "id": "9f81ffbe-321f-4e76-af7d-e9848638b4ce",
   "metadata": {},
   "outputs": [
    {
     "data": {
      "text/plain": [
       "np.float64(1.357040257068864)"
      ]
     },
     "execution_count": 42,
     "metadata": {},
     "output_type": "execute_result"
    }
   ],
   "source": [
    "uk_road_accident['Number_of_Casualties'].mean()"
   ]
  },
  {
   "cell_type": "markdown",
   "id": "59e8e598-f19a-4793-a746-cda41d599d3f",
   "metadata": {},
   "source": [
    "<H3> INSIGHT #18 - The average number of casualties per accident is 1.36. </H3>"
   ]
  },
  {
   "cell_type": "markdown",
   "id": "12614c9f-65ea-463c-93d9-cb2df33f54a2",
   "metadata": {},
   "source": [
    "<H1> 19. What is the most common accident severity? </H1>"
   ]
  },
  {
   "cell_type": "code",
   "execution_count": 44,
   "id": "8a711fc8-5163-4106-a72b-e9bb8d33f632",
   "metadata": {},
   "outputs": [
    {
     "data": {
      "text/plain": [
       "'Slight'"
      ]
     },
     "execution_count": 44,
     "metadata": {},
     "output_type": "execute_result"
    }
   ],
   "source": [
    "uk_road_accident['Accident_Severity'].mode()[0]"
   ]
  },
  {
   "cell_type": "markdown",
   "id": "9448e58b-82ff-4655-8995-55eff1ce5f08",
   "metadata": {},
   "source": [
    "<H3> INSIGHT #19 - The most common accident severity is “Slight”. </H3>"
   ]
  },
  {
   "cell_type": "markdown",
   "id": "7d43acf5-6180-4e86-b14f-fbed9e0839cb",
   "metadata": {},
   "source": [
    "<H1> 20. What is the most common weather condition during accidents? </H1>"
   ]
  },
  {
   "cell_type": "code",
   "execution_count": 45,
   "id": "26865c61-7425-41d0-bfe9-2d2a215daee9",
   "metadata": {},
   "outputs": [
    {
     "data": {
      "text/plain": [
       "'Fine no high winds'"
      ]
     },
     "execution_count": 45,
     "metadata": {},
     "output_type": "execute_result"
    }
   ],
   "source": [
    "uk_road_accident['Weather_Conditions'].mode()[0]"
   ]
  },
  {
   "cell_type": "markdown",
   "id": "fea1f4e0-2c8f-4122-91a9-ca38682edc00",
   "metadata": {},
   "source": [
    "<H3> INSIGHT #20 - Most common weather condition during accidents is \"Fine no high winds\".  </H3>"
   ]
  }
 ],
 "metadata": {
  "kernelspec": {
   "display_name": "Python 3 (ipykernel)",
   "language": "python",
   "name": "python3"
  },
  "language_info": {
   "codemirror_mode": {
    "name": "ipython",
    "version": 3
   },
   "file_extension": ".py",
   "mimetype": "text/x-python",
   "name": "python",
   "nbconvert_exporter": "python",
   "pygments_lexer": "ipython3",
   "version": "3.13.7"
  }
 },
 "nbformat": 4,
 "nbformat_minor": 5
}
